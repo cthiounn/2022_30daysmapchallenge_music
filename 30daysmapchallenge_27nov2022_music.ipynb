{
 "cells": [
  {
   "cell_type": "code",
   "execution_count": null,
   "id": "63199034-f1da-4eb9-be61-11f2ee991b87",
   "metadata": {},
   "outputs": [],
   "source": [
    "%pip install folium"
   ]
  },
  {
   "cell_type": "code",
   "execution_count": null,
   "id": "85b9b2a1-7366-4faa-9f53-aaa08c27b250",
   "metadata": {},
   "outputs": [],
   "source": [
    "import folium\n",
    "#m = folium.Map()\n",
    "#m"
   ]
  },
  {
   "cell_type": "code",
   "execution_count": null,
   "id": "fec3d4d7-bedc-4420-b29a-bc20b355a960",
   "metadata": {},
   "outputs": [],
   "source": [
    "import pandas as pd\n",
    "import re"
   ]
  },
  {
   "cell_type": "code",
   "execution_count": null,
   "id": "d5f80b3e-4a0c-4df2-8bb7-110aa2fd5dda",
   "metadata": {},
   "outputs": [],
   "source": [
    "finddigitalreg=lambda x :re.findall(r\"\\d+\",x)"
   ]
  },
  {
   "cell_type": "code",
   "execution_count": null,
   "id": "64f7b068-7aa4-4264-a97f-8cad748522f7",
   "metadata": {},
   "outputs": [],
   "source": [
    "#Data : https://en.wikipedia.org/wiki/List_of_best-selling_singles\n",
    "df=pd.read_csv(\"music.csv\",header=None,names=[\"Artist\",\"Single\",\"Year\",\"Sales\",\"Source\"])\n",
    "df[\"NumberSales\"]=df[\"Sales\"].apply(lambda x: finddigitalreg(x)[0]).astype('int32')\n",
    "df[\"Artists\"]=df[\"Artist\"].apply(lambda x: x.split(\" featuring \") if x.split(\"featuring\") else \"\")\n",
    "df[\"MainArtist\"]=df[\"Artists\"].apply(lambda x: x[0])\n",
    "df[\"FeatArtist\"]=df[\"Artists\"].apply(lambda x: x[1] if len(x)==2 else None)\n",
    "df[\"TenYears\"]=df[\"Year\"].apply(lambda x: str(x)[2]+\"0\")\n",
    "df=df.drop(columns=[\"Source\",\"Sales\",\"Artist\",\"Artists\",\"Year\"])\n",
    "df"
   ]
  },
  {
   "cell_type": "code",
   "execution_count": null,
   "id": "0ea848ad-a588-47e4-9e8d-76d7ce248c08",
   "metadata": {},
   "outputs": [],
   "source": [
    "df_artist=pd.read_csv(\"artist.csv\")\n",
    "df_artist[\"Artist\"]=df_artist[\"Artist\"].apply(lambda x: x.replace(\"'\",\"\"))"
   ]
  },
  {
   "cell_type": "code",
   "execution_count": null,
   "id": "96ab1d4a-444e-4f7f-ba9e-d15a23a81c6b",
   "metadata": {},
   "outputs": [],
   "source": [
    "df_artist"
   ]
  },
  {
   "cell_type": "code",
   "execution_count": null,
   "id": "a78d12c4-9d04-45be-bd61-f676fd96a9bd",
   "metadata": {},
   "outputs": [],
   "source": [
    "df=df.merge(df_artist,how=\"inner\",left_on=\"MainArtist\",right_on=\"Artist\")\n",
    "df"
   ]
  },
  {
   "cell_type": "code",
   "execution_count": null,
   "id": "dc872206-05f3-42e1-80f7-49f1145c0473",
   "metadata": {},
   "outputs": [],
   "source": [
    "url = 'https://raw.githubusercontent.com/python-visualization/folium/master/examples/data'\n",
    "country_shapes = f'{url}/world-countries.json'"
   ]
  },
  {
   "cell_type": "code",
   "execution_count": null,
   "id": "94a71322-7864-41c4-85bc-86f63a2e14c8",
   "metadata": {},
   "outputs": [],
   "source": [
    "df_group_by=df.groupby(\"Born\").sum(numeric_only=True)\n",
    "df_group_by=df_group_by.reset_index()\n",
    "df_group_by_double_countries=df_group_by[df_group_by.Born.str.contains(\"\\+\")].copy()\n",
    "df_group_by=df_group_by[~df_group_by.Born.str.contains(\"\\+\")]\n",
    "df_group_by.sort_values(by=\"NumberSales\")\n",
    "df_group_by"
   ]
  },
  {
   "cell_type": "code",
   "execution_count": null,
   "id": "24ad5324-364d-418d-ac3c-b666c4b2b5a1",
   "metadata": {},
   "outputs": [],
   "source": [
    "for i,j in df_group_by_double_countries.iterrows():\n",
    "    country1,country2=j.Born.split(\"+\")\n",
    "    \n",
    "    df_group_by=pd.concat(\n",
    "        [\n",
    "            df_group_by,\n",
    "            pd.DataFrame(\n",
    "                {\n",
    "                    \"Born\": [country1],\n",
    "                    \"NumberSales\": [j.NumberSales/2],\n",
    "                }\n",
    "            ),\n",
    "        ]\n",
    "    )\n",
    "    df_group_by=pd.concat(\n",
    "        [\n",
    "            df_group_by,\n",
    "            pd.DataFrame(\n",
    "                {\n",
    "                    \"Born\": [country2],\n",
    "                    \"NumberSales\": [j.NumberSales/2],\n",
    "                }\n",
    "            ),\n",
    "        ]\n",
    "    )\n",
    "df_group_by=df_group_by.groupby(by=\"Born\").sum(numeric_only=True).reset_index()\n",
    "df_group_by"
   ]
  },
  {
   "cell_type": "code",
   "execution_count": null,
   "id": "a3b97f20-f4b8-43af-b434-b679cd800d9d",
   "metadata": {},
   "outputs": [],
   "source": [
    "df_group_by.replace('USA', \"United States of America\", inplace = True)\n",
    "df_group_by.replace('UK', \"United Kingdom\", inplace = True)"
   ]
  },
  {
   "cell_type": "code",
   "execution_count": null,
   "id": "81654f2f-73fd-423e-915d-c9741819bb4b",
   "metadata": {},
   "outputs": [],
   "source": [
    "import folium\n",
    "\n",
    "\n",
    "m = folium.Map([0,0], zoom_start=2)\n",
    "\n",
    "folium.Choropleth(\n",
    "    geo_data=country_shapes,\n",
    "    #highlight=True, \n",
    "\n",
    "    fill_opacity=0.7,\n",
    "    data=df_group_by,           \n",
    "    bins=[0, 20, 40, 100, 1000],\n",
    "    columns=['Born', 'NumberSales'],\n",
    "    fill_color='PuRd',\n",
    "    key_on=\"feature.properties.name\",\n",
    "    nan_fill_color='blue',\n",
    "    name=\"Total of Copies of Best-selling physical singles by Country of birth\",\n",
    ").add_to(m)\n",
    "m"
   ]
  }
 ],
 "metadata": {
  "kernelspec": {
   "display_name": "Python 3 (ipykernel)",
   "language": "python",
   "name": "python3"
  },
  "language_info": {
   "codemirror_mode": {
    "name": "ipython",
    "version": 3
   },
   "file_extension": ".py",
   "mimetype": "text/x-python",
   "name": "python",
   "nbconvert_exporter": "python",
   "pygments_lexer": "ipython3",
   "version": "3.10.4"
  }
 },
 "nbformat": 4,
 "nbformat_minor": 5
}
