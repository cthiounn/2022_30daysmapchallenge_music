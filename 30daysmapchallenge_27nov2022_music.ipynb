{
 "cells": [
  {
   "cell_type": "code",
   "execution_count": null,
   "id": "63199034-f1da-4eb9-be61-11f2ee991b87",
   "metadata": {},
   "outputs": [],
   "source": [
    "#%pip install folium"
   ]
  },
  {
   "cell_type": "code",
   "execution_count": null,
   "id": "85b9b2a1-7366-4faa-9f53-aaa08c27b250",
   "metadata": {},
   "outputs": [],
   "source": [
    "import folium\n",
    "import pandas as pd\n",
    "import re\n",
    "import geopandas as gpd\n",
    "import branca.colormap as cm\n"
   ]
  },
  {
   "cell_type": "code",
   "execution_count": null,
   "id": "fec3d4d7-bedc-4420-b29a-bc20b355a960",
   "metadata": {},
   "outputs": [],
   "source": [
    "df_geos = gpd.read_file(\"https://datahub.io/core/geo-countries/r/countries.geojson\")"
   ]
  },
  {
   "cell_type": "code",
   "execution_count": null,
   "id": "d5f80b3e-4a0c-4df2-8bb7-110aa2fd5dda",
   "metadata": {},
   "outputs": [],
   "source": [
    "finddigitalreg=lambda x :re.findall(r\"\\d+\",x)"
   ]
  },
  {
   "cell_type": "code",
   "execution_count": null,
   "id": "64f7b068-7aa4-4264-a97f-8cad748522f7",
   "metadata": {},
   "outputs": [],
   "source": [
    "#Data : https://en.wikipedia.org/wiki/List_of_best-selling_singles\n",
    "df=pd.read_csv(\"music.csv\",header=None,names=[\"Artist\",\"Single\",\"Year\",\"Sales\",\"Source\"])\n",
    "df[\"NumberSales\"]=df[\"Sales\"].apply(lambda x: finddigitalreg(x)[0]).astype('int32')\n",
    "df[\"Artists\"]=df[\"Artist\"].apply(lambda x: x.split(\" featuring \") if x.split(\"featuring\") else \"\")\n",
    "df[\"MainArtist\"]=df[\"Artists\"].apply(lambda x: x[0])\n",
    "df[\"FeatArtist\"]=df[\"Artists\"].apply(lambda x: x[1] if len(x)==2 else None)\n",
    "df[\"TenYears\"]=df[\"Year\"].apply(lambda x: str(x)[2]+\"0\")\n",
    "df=df.drop(columns=[\"Source\",\"Sales\",\"Artist\",\"Artists\",\"Year\"])\n",
    "df"
   ]
  },
  {
   "cell_type": "code",
   "execution_count": null,
   "id": "0ea848ad-a588-47e4-9e8d-76d7ce248c08",
   "metadata": {},
   "outputs": [],
   "source": [
    "df_artist=pd.read_csv(\"artist.csv\")\n",
    "df_artist[\"Artist\"]=df_artist[\"Artist\"].apply(lambda x: x.replace(\"'\",\"\"))"
   ]
  },
  {
   "cell_type": "code",
   "execution_count": null,
   "id": "96ab1d4a-444e-4f7f-ba9e-d15a23a81c6b",
   "metadata": {},
   "outputs": [],
   "source": [
    "df_artist"
   ]
  },
  {
   "cell_type": "code",
   "execution_count": null,
   "id": "a78d12c4-9d04-45be-bd61-f676fd96a9bd",
   "metadata": {},
   "outputs": [],
   "source": [
    "df=df.merge(df_artist,how=\"inner\",left_on=\"MainArtist\",right_on=\"Artist\")\n",
    "df"
   ]
  },
  {
   "cell_type": "code",
   "execution_count": null,
   "id": "94a71322-7864-41c4-85bc-86f63a2e14c8",
   "metadata": {},
   "outputs": [],
   "source": [
    "df_group_by=df.groupby(\"Born\").sum(numeric_only=True)\n",
    "df_group_by=df_group_by.reset_index()\n",
    "df_group_by_double_countries=df_group_by[df_group_by.Born.str.contains(\"\\+\")].copy()\n",
    "df_group_by=df_group_by[~df_group_by.Born.str.contains(\"\\+\")]\n",
    "df_group_by.sort_values(by=\"NumberSales\")\n",
    "df_group_by"
   ]
  },
  {
   "cell_type": "code",
   "execution_count": null,
   "id": "24ad5324-364d-418d-ac3c-b666c4b2b5a1",
   "metadata": {},
   "outputs": [],
   "source": [
    "for i,j in df_group_by_double_countries.iterrows():\n",
    "    country1,country2=j.Born.split(\"+\")\n",
    "    \n",
    "    df_group_by=pd.concat(\n",
    "        [\n",
    "            df_group_by,\n",
    "            pd.DataFrame(\n",
    "                {\n",
    "                    \"Born\": [country1],\n",
    "                    \"NumberSales\": [j.NumberSales/2],\n",
    "                }\n",
    "            ),\n",
    "        ]\n",
    "    )\n",
    "    df_group_by=pd.concat(\n",
    "        [\n",
    "            df_group_by,\n",
    "            pd.DataFrame(\n",
    "                {\n",
    "                    \"Born\": [country2],\n",
    "                    \"NumberSales\": [j.NumberSales/2],\n",
    "                }\n",
    "            ),\n",
    "        ]\n",
    "    )\n",
    "df_group_by=df_group_by.groupby(by=\"Born\").sum(numeric_only=True).reset_index()\n",
    "df_group_by"
   ]
  },
  {
   "cell_type": "code",
   "execution_count": null,
   "id": "a3b97f20-f4b8-43af-b434-b679cd800d9d",
   "metadata": {},
   "outputs": [],
   "source": [
    "df_group_by.replace('USA', \"United States of America\", inplace = True)\n",
    "df_group_by.replace('UK', \"United Kingdom\", inplace = True)"
   ]
  },
  {
   "cell_type": "code",
   "execution_count": null,
   "id": "9288edef-fed7-495e-84ba-d5bad913a380",
   "metadata": {},
   "outputs": [],
   "source": []
  },
  {
   "cell_type": "code",
   "execution_count": null,
   "id": "6576c7c8-6af6-40d4-8c9d-986f71b283e9",
   "metadata": {},
   "outputs": [],
   "source": [
    "df_group_by=df_geos.merge(df_group_by,how=\"inner\",right_on=\"Born\",left_on=\"ADMIN\")\n"
   ]
  },
  {
   "cell_type": "code",
   "execution_count": null,
   "id": "fe4d11e1-150a-4651-96a6-5cfbf2d77bb6",
   "metadata": {},
   "outputs": [],
   "source": [
    "df_group_by.sort_values(by=\"NumberSales\")"
   ]
  },
  {
   "cell_type": "code",
   "execution_count": null,
   "id": "3e47f9ac-b456-4984-92f9-ecb36482c8f7",
   "metadata": {},
   "outputs": [],
   "source": [
    "def my_color_function(feature):\n",
    "    if feature['properties']['NumberSales'] > 500:\n",
    "        return '#EF3340'\n",
    "    elif feature['properties']['NumberSales'] > 200:\n",
    "        return '#FFAA4D'\n",
    "    elif feature['properties']['NumberSales'] > 100:\n",
    "        return '#FFD700'\n",
    "    elif feature['properties']['NumberSales'] > 50:\n",
    "        return '#FEDD00'\n",
    "    elif feature['properties']['NumberSales'] > 10:\n",
    "        return '#F2F0A1'\n",
    "    else:\n",
    "        return '#E4D5D3'\n"
   ]
  },
  {
   "cell_type": "code",
   "execution_count": null,
   "id": "81654f2f-73fd-423e-915d-c9741819bb4b",
   "metadata": {},
   "outputs": [],
   "source": [
    "import folium\n",
    "\n",
    "\n",
    "mymap = folium.Map([0,0], zoom_start=2)\n",
    "\n",
    "\n",
    "#colormap = cm.linear.Spectral_03.to_step(data=df_group_by['NumberSales'], method='quant', quantiles=[0,0.1,0.75,0.9,0.98,1])\n",
    "\n",
    "url = 'https://raw.githubusercontent.com/python-visualization/folium/master/examples/data'\n",
    "country_shapes = f'{url}/world-countries.json'\n",
    "\n",
    "folium.Choropleth(\n",
    "geo_data=country_shapes,\n",
    "data=df_group_by,    \n",
    "bins=[0, 20, 40, 100,200, 800],\n",
    "columns=['Born', 'NumberSales'],\n",
    "fill_color='PuRd',\n",
    "key_on=\"feature.properties.name\",\n",
    "legend_name=\"Total of Copies of Best-selling physical singles by Country of birth\",\n",
    "smooth_factor=0,\n",
    "#Highlight= True,\n",
    "line_color = \"#00000\",\n",
    "name=\"Total of Copies of Best-selling physical singles by Country of birth\",\n",
    "show=True,\n",
    "overlay=True,\n",
    "nan_fill_color = \"#808080\",\n",
    "fill_opacity=1,\n",
    "line_opacity=0.1,\n",
    ").add_to(mymap)\n",
    "\n",
    "\n",
    "highlight_function = lambda x: {'fillColor': '#000000', \n",
    "    'color':'#000000', \n",
    "    'fillOpacity': 0.50, \n",
    "    'weight': 0.1}\n",
    "style_function = lambda x: {'fillColor': my_color_function(x), \n",
    "    'color':'#00ff00', \n",
    "    'fillOpacity': 0.7, \n",
    "    'weight': 0.1}\n",
    "NIL=folium.features.GeoJson(\n",
    "    df_group_by,\n",
    "    #style_function=style_function, \n",
    "    #highlight_function=highlight_function,\n",
    "    tooltip=folium.features.GeoJsonTooltip(\n",
    "        fields=['Born', 'NumberSales'],\n",
    "        aliases=['Born: ', 'NumberSales: '],\n",
    "    ),\n",
    "    control=False\n",
    ")\n",
    "\n",
    "mymap.add_child(NIL)\n",
    "mymap.keep_in_front(NIL)\n",
    "folium.TileLayer('cartodbdark_matter',overlay=True,name=\"View in Dark Mode\").add_to(mymap)\n",
    "folium.TileLayer('cartodbpositron',overlay=True,name=\"Viw in Light Mode\").add_to(mymap)\n",
    "folium.LayerControl().add_to(mymap)\n",
    "mymap\n",
    "\n",
    "\n",
    "\n"
   ]
  }
 ],
 "metadata": {
  "kernelspec": {
   "display_name": "Python 3 (ipykernel)",
   "language": "python",
   "name": "python3"
  },
  "language_info": {
   "codemirror_mode": {
    "name": "ipython",
    "version": 3
   },
   "file_extension": ".py",
   "mimetype": "text/x-python",
   "name": "python",
   "nbconvert_exporter": "python",
   "pygments_lexer": "ipython3",
   "version": "3.10.4"
  }
 },
 "nbformat": 4,
 "nbformat_minor": 5
}
